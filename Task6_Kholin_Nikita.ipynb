{
 "cells": [
  {
   "cell_type": "markdown",
   "metadata": {},
   "source": [
    "Холин Никита Андреевич"
   ]
  },
  {
   "cell_type": "markdown",
   "metadata": {},
   "source": [
    "Все задачи выполнялись в одном виртуальном окружении study-env\n",
    "\n",
    "1. python -m venv study-env (создание виртуального окружения)\n",
    "2. source study-env/bin/activate (активация)\n",
    "3. pip install pandas numpy (установка numpy и numpy)\n",
    "4. pip freeze > requirements.txt (сохранение зависимостей в файл)\n",
    "\n",
    "    получился файл в котором указаны зависимости а также требуемые модуль\n",
    "\n",
    "        numpy==2.1.2\n",
    "        pandas==2.2.3"
   ]
  },
  {
   "cell_type": "markdown",
   "metadata": {},
   "source": [
    "Задание 1: Создание объекта Series с температурой за последние 7 дней\n",
    "\n"
   ]
  },
  {
   "cell_type": "code",
   "execution_count": 74,
   "metadata": {},
   "outputs": [
    {
     "name": "stdout",
     "output_type": "stream",
     "text": [
      "2024-11-23 15:07:52.689363    28\n",
      "2024-11-24 15:07:52.689363    10\n",
      "2024-11-25 15:07:52.689363    -1\n",
      "2024-11-26 15:07:52.689363     3\n",
      "2024-11-27 15:07:52.689363     2\n",
      "2024-11-28 15:07:52.689363    23\n",
      "2024-11-29 15:07:52.689363    23\n",
      "Freq: D, dtype: int64\n"
     ]
    }
   ],
   "source": [
    "import pandas as pd\n",
    "import numpy as np\n",
    "\n",
    "# Создаем диапазон дат за последние 7 дней\n",
    "dates = pd.date_range(end=pd.Timestamp.today(), periods=7)\n",
    "\n",
    "# Генерируем случайные значения температуры (например, от -10 до 30 градусов)\n",
    "temperatures = np.random.randint(-10, 30, size=7)\n",
    "\n",
    "# Создаем объект Series\n",
    "temperature_series = pd.Series(temperatures, index=dates)\n",
    "\n",
    "# Выводим Series на экран\n",
    "print(temperature_series)\n"
   ]
  },
  {
   "cell_type": "markdown",
   "metadata": {},
   "source": [
    "Задание 2: Создание DataFrame из списков студентов и их оценок"
   ]
  },
  {
   "cell_type": "code",
   "execution_count": 75,
   "metadata": {},
   "outputs": [
    {
     "name": "stdout",
     "output_type": "stream",
     "text": [
      "    Студент  Оценка\n",
      "0      Анна       5\n",
      "1      Иван       4\n",
      "2     Мария       5\n",
      "3      Петр       3\n",
      "4  Светлана       4\n"
     ]
    }
   ],
   "source": [
    "import pandas as pd\n",
    "\n",
    "# Списки данных\n",
    "students = ['Анна', 'Иван', 'Мария', 'Петр', 'Светлана']\n",
    "grades = [5, 4, 5, 3, 4]\n",
    "\n",
    "# Создание словаря из списков\n",
    "data = {'Студент': students, 'Оценка': grades}\n",
    "\n",
    "# Создание DataFrame из словаря\n",
    "df = pd.DataFrame(data)\n",
    "\n",
    "# Вывод DataFrame на экран\n",
    "print(df)\n"
   ]
  },
  {
   "cell_type": "markdown",
   "metadata": {},
   "source": [
    "Задание 3: Добавление нового столбца и использование методов head() и tail()"
   ]
  },
  {
   "cell_type": "code",
   "execution_count": 82,
   "metadata": {},
   "outputs": [
    {
     "name": "stdout",
     "output_type": "stream",
     "text": [
      "  Студент  Оценка  Возраст\n",
      "0    Анна       5       20\n",
      "    Студент  Оценка  Возраст\n",
      "4  Светлана       4       22\n"
     ]
    }
   ],
   "source": [
    "df['Возраст'] = [20, 22, 21, 23, 22]\n",
    "\n",
    "# выводит первую строку (1 с начала)\n",
    "print(df.head(1))\n",
    "\n",
    "# выводит последнюю строку (1 с конца)\n",
    "print(df.tail(1))"
   ]
  },
  {
   "cell_type": "markdown",
   "metadata": {},
   "source": [
    "Задание 4: Создание DataFrame из словаря"
   ]
  },
  {
   "cell_type": "code",
   "execution_count": 83,
   "metadata": {},
   "outputs": [
    {
     "name": "stdout",
     "output_type": "stream",
     "text": [
      "    Студент  Оценка  Возраст\n",
      "0      Анна       5       20\n",
      "1      Иван       4       22\n",
      "2     Мария       5       21\n",
      "3      Петр       3       23\n",
      "4  Светлана       4       22\n"
     ]
    }
   ],
   "source": [
    "import pandas as pd\n",
    "\n",
    "data = {\n",
    "    'Студент': ['Анна', 'Иван', 'Мария', 'Петр', 'Светлана'],\n",
    "    'Оценка': [5, 4, 5, 3, 4],\n",
    "    'Возраст': [20, 22, 21, 23, 22]\n",
    "}\n",
    "\n",
    "# Создание DataFrame из словаря\n",
    "df = pd.DataFrame(data)\n",
    "\n",
    "# Вывод DataFrame на экран\n",
    "print(df)"
   ]
  },
  {
   "cell_type": "markdown",
   "metadata": {},
   "source": [
    "Задание 5: Изменение названий столбцов в DataFrame"
   ]
  },
  {
   "cell_type": "code",
   "execution_count": 86,
   "metadata": {},
   "outputs": [
    {
     "name": "stderr",
     "output_type": "stream",
     "text": [
      "2024-11-29 15:59:54,346 - INFO - Данные успешно записаны в файл 'students_data.csv'.\n",
      "2024-11-29 15:59:54,348 - INFO - Данные успешно загружены из файла 'students_data.csv'.\n",
      "2024-11-29 15:59:54,349 - INFO - Исходные названия столбцов: ['Студент', 'Оценка', 'Возраст']\n",
      "2024-11-29 15:59:54,351 - INFO - Столбцы успешно переименованы.\n",
      "2024-11-29 15:59:54,352 - INFO - Новые названия столбцов: ['Student', 'Score', 'Age']\n"
     ]
    }
   ],
   "source": [
    "import pandas as pd\n",
    "import logging\n",
    "\n",
    "# Настройка логирования\n",
    "logging.basicConfig(level=logging.INFO, format='%(asctime)s - %(levelname)s - %(message)s')\n",
    "logger = logging.getLogger()\n",
    "\n",
    "# 1. Запись данных в CSV файл\n",
    "data = {\n",
    "    'Студент': ['Анна', 'Иван', 'Мария', 'Петр', 'Светлана'],\n",
    "    'Оценка': [5, 4, 5, 3, 4],\n",
    "    'Возраст': [20, 22, 21, 23, 22]\n",
    "}\n",
    "\n",
    "df = pd.DataFrame(data)\n",
    "\n",
    "try:\n",
    "    # Запись DataFrame в CSV файл\n",
    "    df.to_csv('students_data.csv', index=False, encoding='utf-8')\n",
    "    logger.info(\"Данные успешно записаны в файл 'students_data.csv'.\")\n",
    "except Exception as e:\n",
    "    logger.error(f\"Ошибка при записи в файл: {e}\")\n",
    "\n",
    "# 2. Чтение данных из CSV файла\n",
    "try:\n",
    "    df = pd.read_csv('students_data.csv')\n",
    "    logger.info(\"Данные успешно загружены из файла 'students_data.csv'.\")\n",
    "except FileNotFoundError:\n",
    "    logger.error(\"Файл 'students_data.csv' не найден.\")\n",
    "except pd.errors.EmptyDataError:\n",
    "    logger.error(\"Файл пустой, не удается прочитать данные.\")\n",
    "except pd.errors.ParserError:\n",
    "    logger.error(\"Ошибка при разборе файла, возможно неправильный формат.\")\n",
    "except Exception as e:\n",
    "    logger.error(f\"Неизвестная ошибка при чтении файла: {e}\")\n",
    "\n",
    "# 3. Отображение исходных названий столбцов\n",
    "if 'df' in locals():  # Проверяем, что DataFrame был успешно загружен\n",
    "    logger.info(f\"Исходные названия столбцов: {df.columns.tolist()}\")\n",
    "\n",
    "    # 4. Переименование столбцов\n",
    "    try:\n",
    "        df.rename(columns={\n",
    "            'Студент': 'Student',\n",
    "            'Оценка': 'Score',\n",
    "            'Возраст': 'Age'\n",
    "        }, inplace=True)\n",
    "        logger.info(\"Столбцы успешно переименованы.\")\n",
    "    except Exception as e:\n",
    "        logger.error(f\"Ошибка при переименовании столбцов: {e}\")\n",
    "\n",
    "    # 5. Отображение новых названий столбцов\n",
    "    logger.info(f\"Новые названия столбцов: {df.columns.tolist()}\")\n"
   ]
  },
  {
   "cell_type": "markdown",
   "metadata": {},
   "source": [
    "Задание 11: Фильтрация строк на основе условий"
   ]
  },
  {
   "cell_type": "code",
   "execution_count": 87,
   "metadata": {},
   "outputs": [
    {
     "name": "stderr",
     "output_type": "stream",
     "text": [
      "2024-11-29 16:04:36,002 - INFO - Исходные данные:\n",
      "2024-11-29 16:04:36,003 - INFO -     Студент  Оценка  Возраст\n",
      "0      Анна      95       20\n",
      "1      Иван      82       22\n",
      "2     Мария      90       21\n",
      "3      Петр      70       23\n",
      "4  Светлана      65       22\n",
      "2024-11-29 16:04:36,005 - INFO - Фильтрация прошла успешно. 3 строк(и) удовлетворяют условию.\n",
      "2024-11-29 16:04:36,005 - INFO - Отфильтрованные данные:\n",
      "2024-11-29 16:04:36,006 - INFO -   Студент  Оценка  Возраст\n",
      "0    Анна      95       20\n",
      "1    Иван      82       22\n",
      "2   Мария      90       21\n"
     ]
    }
   ],
   "source": [
    "import pandas as pd\n",
    "import logging\n",
    "\n",
    "# Настройка логирования\n",
    "logging.basicConfig(level=logging.INFO, format='%(asctime)s - %(levelname)s - %(message)s')\n",
    "logger = logging.getLogger()\n",
    "\n",
    "def filter_high_scores(df, column_name, threshold):\n",
    "    \"\"\"Функция для фильтрации строк, где значения в заданном столбце больше порога\"\"\"\n",
    "    try:\n",
    "        filtered_df = df[df[column_name] > threshold]\n",
    "        logger.info(f\"Фильтрация прошла успешно. {len(filtered_df)} строк(и) удовлетворяют условию.\")\n",
    "        return filtered_df\n",
    "    except KeyError:\n",
    "        logger.error(f\"Столбец '{column_name}' не найден в DataFrame.\")\n",
    "        return pd.DataFrame()  # Возвращаем пустой DataFrame в случае ошибки\n",
    "    except Exception as e:\n",
    "        logger.error(f\"Произошла ошибка при фильтрации данных: {e}\")\n",
    "        return pd.DataFrame()\n",
    "\n",
    "data = {\n",
    "    'Студент': ['Анна', 'Иван', 'Мария', 'Петр', 'Светлана'],\n",
    "    'Оценка': [95, 82, 90, 70, 65],\n",
    "    'Возраст': [20, 22, 21, 23, 22]\n",
    "}\n",
    "\n",
    "# Создаем DataFrame\n",
    "df = pd.DataFrame(data)\n",
    "\n",
    "# Логируем исходные данные\n",
    "logger.info(\"Исходные данные:\")\n",
    "logger.info(df)\n",
    "\n",
    "# Фильтрация строк, где 'Оценка' больше 80\n",
    "filtered_df = filter_high_scores(df, 'Оценка', 80)\n",
    "\n",
    "# Вывод результата\n",
    "if not filtered_df.empty:\n",
    "    logger.info(\"Отфильтрованные данные:\")\n",
    "    logger.info(filtered_df)\n",
    "else:\n",
    "    logger.warning(\"Нет данных, удовлетворяющих условию.\")\n"
   ]
  }
 ],
 "metadata": {
  "kernelspec": {
   "display_name": "study-env",
   "language": "python",
   "name": "python3"
  },
  "language_info": {
   "codemirror_mode": {
    "name": "ipython",
    "version": 3
   },
   "file_extension": ".py",
   "mimetype": "text/x-python",
   "name": "python",
   "nbconvert_exporter": "python",
   "pygments_lexer": "ipython3",
   "version": "3.12.6"
  }
 },
 "nbformat": 4,
 "nbformat_minor": 2
}
