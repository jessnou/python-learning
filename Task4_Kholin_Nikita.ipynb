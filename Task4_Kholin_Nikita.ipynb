{
 "cells": [
  {
   "cell_type": "markdown",
   "metadata": {},
   "source": [
    "Холин Никита Андреевич"
   ]
  },
  {
   "cell_type": "markdown",
   "metadata": {},
   "source": [
    "Задание 1:  Генерация сетки координат"
   ]
  },
  {
   "cell_type": "code",
   "execution_count": 9,
   "metadata": {},
   "outputs": [
    {
     "name": "stdout",
     "output_type": "stream",
     "text": [
      "Массив x:\n",
      "[[-5 -4 -3 -2 -1  0  1  2  3  4  5]\n",
      " [-5 -4 -3 -2 -1  0  1  2  3  4  5]\n",
      " [-5 -4 -3 -2 -1  0  1  2  3  4  5]\n",
      " [-5 -4 -3 -2 -1  0  1  2  3  4  5]\n",
      " [-5 -4 -3 -2 -1  0  1  2  3  4  5]\n",
      " [-5 -4 -3 -2 -1  0  1  2  3  4  5]\n",
      " [-5 -4 -3 -2 -1  0  1  2  3  4  5]\n",
      " [-5 -4 -3 -2 -1  0  1  2  3  4  5]\n",
      " [-5 -4 -3 -2 -1  0  1  2  3  4  5]\n",
      " [-5 -4 -3 -2 -1  0  1  2  3  4  5]\n",
      " [-5 -4 -3 -2 -1  0  1  2  3  4  5]]\n",
      "\n",
      "Массив y:\n",
      "[[-5 -5 -5 -5 -5 -5 -5 -5 -5 -5 -5]\n",
      " [-4 -4 -4 -4 -4 -4 -4 -4 -4 -4 -4]\n",
      " [-3 -3 -3 -3 -3 -3 -3 -3 -3 -3 -3]\n",
      " [-2 -2 -2 -2 -2 -2 -2 -2 -2 -2 -2]\n",
      " [-1 -1 -1 -1 -1 -1 -1 -1 -1 -1 -1]\n",
      " [ 0  0  0  0  0  0  0  0  0  0  0]\n",
      " [ 1  1  1  1  1  1  1  1  1  1  1]\n",
      " [ 2  2  2  2  2  2  2  2  2  2  2]\n",
      " [ 3  3  3  3  3  3  3  3  3  3  3]\n",
      " [ 4  4  4  4  4  4  4  4  4  4  4]\n",
      " [ 5  5  5  5  5  5  5  5  5  5  5]]\n",
      "\n",
      "Массив z = x^2 + y^2:\n",
      "[[50 41 34 29 26 25 26 29 34 41 50]\n",
      " [41 32 25 20 17 16 17 20 25 32 41]\n",
      " [34 25 18 13 10  9 10 13 18 25 34]\n",
      " [29 20 13  8  5  4  5  8 13 20 29]\n",
      " [26 17 10  5  2  1  2  5 10 17 26]\n",
      " [25 16  9  4  1  0  1  4  9 16 25]\n",
      " [26 17 10  5  2  1  2  5 10 17 26]\n",
      " [29 20 13  8  5  4  5  8 13 20 29]\n",
      " [34 25 18 13 10  9 10 13 18 25 34]\n",
      " [41 32 25 20 17 16 17 20 25 32 41]\n",
      " [50 41 34 29 26 25 26 29 34 41 50]]\n"
     ]
    }
   ],
   "source": [
    "import numpy as np\n",
    "\n",
    "x = np.arange(-5,6)\n",
    "y = np.arange(-5,6)\n",
    "\n",
    "# 2. Генерируем сетку координат с помощью np.meshgrid\n",
    "X, Y = np.meshgrid(x, y)\n",
    "\n",
    "# 3. Вычисляем значения функции z = x^2 + y^2 на сетке\n",
    "Z = X**2 + Y**2\n",
    "\n",
    "# 4. Выводим массивы x, y и z\n",
    "print(\"Массив x:\")\n",
    "print(X)\n",
    "print(\"\\nМассив y:\")\n",
    "print(Y)\n",
    "print(\"\\nМассив z = x^2 + y^2:\")\n",
    "print(Z)"
   ]
  },
  {
   "cell_type": "markdown",
   "metadata": {},
   "source": [
    "Задание 2: Создание двумерного массива\n",
    "\n",
    "1. python -m venv study-env (создание виртуального окружения)\n",
    "2. source study-env/bin/activate (активация)\n",
    "3. pip install numpy (установка requests)\n",
    "4. pip freeze > requirements.txt (сохранение зависимостейв файл)\n",
    "\n",
    "    получился файл в котором указаны зависимости а также требуемый модуль\n",
    "\n",
    "        numpy==2.1.2"
   ]
  },
  {
   "cell_type": "code",
   "execution_count": 13,
   "metadata": {},
   "outputs": [
    {
     "name": "stdout",
     "output_type": "stream",
     "text": [
      "Полученный массив 3x3:\n",
      "[[1 2 3]\n",
      " [4 5 6]\n",
      " [7 8 9]]\n"
     ]
    }
   ],
   "source": [
    "import numpy as np\n",
    "\n",
    "def create_3x3_array():\n",
    "    \"\"\"\n",
    "    Создает одномерный массив от 1 до 9, преобразует его в двумерный массив 3x3 и выводит на экран.\n",
    "    \"\"\"\n",
    "    try:\n",
    "        # Создание одномерного массива от 1 до 9\n",
    "        array_1d = np.arange(1, 10)\n",
    "        \n",
    "        # Изменение формы массива на 3x3\n",
    "        array_2d = array_1d.reshape(3, 3)\n",
    "        \n",
    "        # Вывод двумерного массива на экран\n",
    "        print(\"Полученный массив 3x3:\")\n",
    "        print(array_2d)\n",
    "    \n",
    "    except Exception as e:\n",
    "        # Обработка исключений на случай ошибок при изменении формы массива\n",
    "        print(f\"Произошла ошибка при изменении формы массива: {e}\")\n",
    "\n",
    "create_3x3_array()\n"
   ]
  },
  {
   "cell_type": "markdown",
   "metadata": {},
   "source": [
    "6. deactivate (деактивация виртуального окружения)"
   ]
  },
  {
   "cell_type": "markdown",
   "metadata": {},
   "source": [
    "Задание 3: Изменение формы массива\n",
    "\n",
    "1. python -m venv study2-env (создание виртуального окружения)\n",
    "2. source study2-env/bin/activate (активация)\n",
    "3. pip install numpy (установка requests)\n",
    "4. pip freeze > requirements.txt (сохранение зависимостейв файл)\n",
    "\n",
    "    получился файл в котором указаны зависимости а также требуемый модуль\n",
    "\n",
    "        numpy==2.1.2"
   ]
  },
  {
   "cell_type": "code",
   "execution_count": 16,
   "metadata": {},
   "outputs": [
    {
     "name": "stdout",
     "output_type": "stream",
     "text": [
      "Исходный одномерный массив:\n",
      "[0.14386085 0.88429294 0.75310137 0.9408033  0.49871032 0.3073818\n",
      " 0.00400637 0.92648708 0.36092682 0.99443541 0.19319572 0.27996324]\n",
      "\n",
      "Измененный массив 4x3:\n",
      "[[0.14386085 0.88429294 0.75310137]\n",
      " [0.9408033  0.49871032 0.3073818 ]\n",
      " [0.00400637 0.92648708 0.36092682]\n",
      " [0.99443541 0.19319572 0.27996324]]\n"
     ]
    }
   ],
   "source": [
    "import numpy as np\n",
    "\n",
    "def create_array():\n",
    "    \"\"\"\n",
    "    Создание одномерного массива из 12 случайных чисел.\n",
    "    Возвращает одномерный массив.\n",
    "    \"\"\"\n",
    "    try:\n",
    "        # Создание одномерного массива из 12 случайных чисел\n",
    "        arr = np.random.rand(12)  # Массив случайных чисел от 0 до 1\n",
    "        print(\"Исходный одномерный массив:\")\n",
    "        print(arr)\n",
    "        return arr\n",
    "    except Exception as e:\n",
    "        # Обработка ошибок при создании массива\n",
    "        print(f\"Произошла ошибка при создании массива: {e}\")\n",
    "        return None\n",
    "\n",
    "def reshape_array(arr):\n",
    "    \"\"\"\n",
    "    Изменяет форму массива на 4x3.\n",
    "    Возвращает измененный массив.\n",
    "    \"\"\"\n",
    "    try:\n",
    "        # Изменение формы массива на 4x3\n",
    "        arr_reshaped = arr.reshape(4, 3)\n",
    "        print(\"\\nИзмененный массив 4x3:\")\n",
    "        print(arr_reshaped)\n",
    "        return arr_reshaped\n",
    "    except Exception as e:\n",
    "        # Обработка ошибок при изменении формы массива\n",
    "        print(f\"Произошла ошибка при изменении формы массива: {e}\")\n",
    "        return None\n",
    "\n",
    "arr = create_array()\n",
    "    \n",
    "# Если массив успешно создан, изменяем его форму\n",
    "if arr is not None:\n",
    "    reshape_array(arr)\n"
   ]
  },
  {
   "cell_type": "markdown",
   "metadata": {},
   "source": [
    "6. deactivate (деактивация виртуального окружения)"
   ]
  },
  {
   "cell_type": "markdown",
   "metadata": {},
   "source": [
    "Задание 4: Индексация и срезы\n",
    "\n",
    "1. python -m venv study3-env (создание виртуального окружения)\n",
    "2. source study3-env/bin/activate (активация)\n",
    "3. pip install numpy (установка requests)\n",
    "4. pip freeze > requirements.txt (сохранение зависимостейв файл)\n",
    "\n",
    "    получился файл в котором указаны зависимости а также требуемый модуль\n",
    "\n",
    "        numpy==2.1.2"
   ]
  },
  {
   "cell_type": "code",
   "execution_count": 20,
   "metadata": {},
   "outputs": [
    {
     "name": "stdout",
     "output_type": "stream",
     "text": [
      "[12 13 14 15 16]\n",
      "[10 11 12 13  0  0  0  0  0 19]\n"
     ]
    }
   ],
   "source": [
    "import numpy as np\n",
    "\n",
    "arr = np.arange(10,20)\n",
    "\n",
    "# Выведет элементы с 3-го по 7-й (включительно). индексация начинается с 0 у массивов, соотвественно 3 элемент соответствует 2 индексу, 7 элементу - 6 индексу, но чтобы его включить нужно указать на индекс выше\n",
    "print(arr[2:7])\n",
    "\n",
    "# Заменит элементы с 5-го по 8-й на 0.\n",
    "arr[4:9] = 0\n",
    "\n",
    "print(arr)"
   ]
  },
  {
   "cell_type": "markdown",
   "metadata": {},
   "source": [
    "6. deactivate (деактивация виртуального окружения)"
   ]
  },
  {
   "cell_type": "markdown",
   "metadata": {},
   "source": [
    "Задание 5: Математические операции с массивами\n",
    "\n",
    "1. python -m venv study4-env (создание виртуального окружения)\n",
    "2. source study4-env/bin/activate (активация)\n",
    "3. pip install numpy (установка requests)\n",
    "4. pip freeze > requirements.txt (сохранение зависимостейв файл)\n",
    "\n",
    "    получился файл в котором указаны зависимости а также требуемый модуль\n",
    "\n",
    "        numpy==2.1.2"
   ]
  },
  {
   "cell_type": "code",
   "execution_count": 34,
   "metadata": {},
   "outputs": [
    {
     "name": "stdout",
     "output_type": "stream",
     "text": [
      "Результаты арифметических операций между массивами a и b:\n",
      "\n",
      "Сумма массивов (a + b):\n",
      "[6 6 6 6 6]\n",
      "\n",
      "Разность массивов (a - b):\n",
      "[-4 -2  0  2  4]\n",
      "\n",
      "Произведение массивов (a * b):\n",
      "[5 8 9 8 5]\n",
      "\n",
      "Частное массивов (a / b):\n",
      "[0.2 0.5 1.  2.  5. ]\n"
     ]
    }
   ],
   "source": [
    "import numpy as np\n",
    "\n",
    "def perform_operations(a, b):\n",
    "    \"\"\"\n",
    "    Функция для выполнения арифметических операций на массивах.\n",
    "    :param a: первый массив.\n",
    "    :param b: второй массив.\n",
    "    :return: результаты операций.\n",
    "    \"\"\"\n",
    "    try:\n",
    "        # Сумма массивов\n",
    "        sum_arr = np.add(a, b)\n",
    "        # Разность массивов\n",
    "        diff_arr = np.subtract(a, b)\n",
    "        # Произведение массивов\n",
    "        prod_arr = np.multiply(a, b)\n",
    "        # Частное массивов (с проверкой на деление на ноль)\n",
    "        with np.errstate(divide='ignore', invalid='ignore'):\n",
    "            # Для деления массивов на 0 мы используем np.errstate, чтобы подавить предупреждения и ошибки деления на ноль.\n",
    "            # Все значения NaN (которые могут появиться при делении на 0) заменяются на бесконечность (inf)\n",
    "            div_arr = np.divide(a, b)\n",
    "            div_arr[np.isnan(div_arr)] = float('inf')\n",
    "\n",
    "        return sum_arr, diff_arr, prod_arr, div_arr\n",
    "    except Exception as e:\n",
    "        print(f\"Произошла ошибка при выполнении операций: {e}\")\n",
    "        return None, None, None, None\n",
    "\n",
    "\n",
    "def print_results(sum_arr, diff_arr, prod_arr, div_arr):\n",
    "    \"\"\"\n",
    "    Функция для вывода результатов операций.\n",
    "    :param sum_arr: результат сложения.\n",
    "    :param diff_arr: результат вычитания.\n",
    "    :param prod_arr: результат умножения.\n",
    "    :param div_arr: результат деления.\n",
    "    \"\"\"\n",
    "    print(\"Результаты арифметических операций между массивами a и b:\\n\")\n",
    "    \n",
    "    print(\"Сумма массивов (a + b):\")\n",
    "    print(sum_arr)\n",
    "    \n",
    "    print(\"\\nРазность массивов (a - b):\")\n",
    "    print(diff_arr)\n",
    "    \n",
    "    print(\"\\nПроизведение массивов (a * b):\")\n",
    "    print(prod_arr)\n",
    "    \n",
    "    print(\"\\nЧастное массивов (a / b):\")\n",
    "    print(div_arr)\n",
    "\n",
    "\n",
    "# Создаем два массива a и b\n",
    "a = np.array([1, 2, 3, 4, 5])\n",
    "b = np.array([5, 4, 3, 2, 1])\n",
    "\n",
    "# Выполняем операции\n",
    "sum_arr, diff_arr, prod_arr, div_arr = perform_operations(a, b)\n",
    "\n",
    "# Выводим результаты\n",
    "print_results(sum_arr, diff_arr, prod_arr, div_arr)\n",
    "\n"
   ]
  },
  {
   "cell_type": "markdown",
   "metadata": {},
   "source": [
    "6. deactivate (деактивация виртуального окружения)"
   ]
  },
  {
   "cell_type": "markdown",
   "metadata": {},
   "source": [
    "Задание 6: Решение системы линейных уравнений\n",
    "\n",
    "1. python -m venv study5-env (создание виртуального окружения)\n",
    "2. source study5-env/bin/activate (активация)\n",
    "3. pip install numpy (установка requests)\n",
    "4. pip freeze > requirements.txt (сохранение зависимостей в файл)\n",
    "\n",
    "    получился файл в котором указаны зависимости а также требуемый модуль\n",
    "\n",
    "        numpy==2.1.2"
   ]
  },
  {
   "cell_type": "code",
   "execution_count": 35,
   "metadata": {},
   "outputs": [
    {
     "name": "stdout",
     "output_type": "stream",
     "text": [
      "Решение системы: x = 2.0, y = 1.0\n"
     ]
    }
   ],
   "source": [
    "import numpy as np\n",
    "\n",
    "def solve_system():\n",
    "    \"\"\"\n",
    "    Решение системы линейных уравнений с использованием NumPy.\n",
    "    Уравнения:\n",
    "    2x + y = 5\n",
    "    x - y = 1\n",
    "    \"\"\"\n",
    "    # Коэффициенты уравнений\n",
    "    A = np.array([[2, 1], [1, -1]])  # Матрица коэффициентов\n",
    "    b = np.array([5, 1])  # Вектор правых частей\n",
    "\n",
    "    try:\n",
    "        # Используем np.linalg.solve для решения системы\n",
    "        solution = np.linalg.solve(A, b)\n",
    "        \n",
    "        # Выводим решение\n",
    "        print(f\"Решение системы: x = {solution[0]}, y = {solution[1]}\")\n",
    "    except np.linalg.LinAlgError as e:\n",
    "        # Обработка ошибок при решении (например, если матрица вырождена)\n",
    "        print(f\"Ошибка при решении системы: {e}\")\n",
    "\n",
    "# Вызов функции для решения системы\n",
    "solve_system()\n"
   ]
  },
  {
   "cell_type": "markdown",
   "metadata": {},
   "source": [
    "6. deactivate (деактивация виртуального окружения)"
   ]
  },
  {
   "cell_type": "markdown",
   "metadata": {},
   "source": [
    "Задание 7: Вычисление собственных значений и векторов\n",
    "\n",
    "1. python -m venv study6-env (создание виртуального окружения)\n",
    "2. source study6-env/bin/activate (активация)\n",
    "3. pip install numpy (установка requests)\n",
    "4. pip freeze > requirements.txt (сохранение зависимостей в файл)\n",
    "\n",
    "    получился файл в котором указаны зависимости а также требуемый модуль\n",
    "\n",
    "        numpy==2.1.2"
   ]
  },
  {
   "cell_type": "code",
   "execution_count": 36,
   "metadata": {},
   "outputs": [
    {
     "name": "stdout",
     "output_type": "stream",
     "text": [
      "Собственные значения:\n",
      "[2. 3.]\n",
      "\n",
      "Собственные векторы:\n",
      "[[1. 0.]\n",
      " [0. 1.]]\n"
     ]
    }
   ],
   "source": [
    "A = np.array([[2,0], [0,3]])\n",
    "\n",
    "# Вычисления собственных значений и собственных векторов матрицы\n",
    "eigenvalues, eigenvectors = np.linalg.eig(A)\n",
    "\n",
    "# Выводим результаты\n",
    "print(\"Собственные значения:\")\n",
    "print(eigenvalues)\n",
    "\n",
    "print(\"\\nСобственные векторы:\")\n",
    "print(eigenvectors)"
   ]
  },
  {
   "cell_type": "markdown",
   "metadata": {},
   "source": [
    "6. deactivate (деактивация виртуального окружения)"
   ]
  },
  {
   "cell_type": "markdown",
   "metadata": {},
   "source": [
    "Задание 8: Соединение массивов\n",
    "\n",
    "1. python -m venv study7-env (создание виртуального окружения)\n",
    "2. source study7-env/bin/activate (активация)\n",
    "3. pip install numpy (установка requests)\n",
    "4. pip freeze > requirements.txt (сохранение зависимостей в файл)\n",
    "\n",
    "    получился файл в котором указаны зависимости а также требуемый модуль\n",
    "\n",
    "        numpy==2.1.2"
   ]
  },
  {
   "cell_type": "code",
   "execution_count": 13,
   "metadata": {},
   "outputs": [
    {
     "name": "stderr",
     "output_type": "stream",
     "text": [
      "2024-11-28 09:33:41,037 - INFO - Производится горизонтальное соединение...\n",
      "2024-11-28 09:33:41,038 - INFO - Производится вертикальное соединение...\n"
     ]
    },
    {
     "name": "stdout",
     "output_type": "stream",
     "text": [
      "Горизонтальное соединение (hstack):\n",
      "[1 2 3 4 5 6]\n",
      "\n",
      "Вертикальное соединение (vstack):\n",
      "[[1 2 3]\n",
      " [4 5 6]]\n"
     ]
    }
   ],
   "source": [
    "import numpy as np\n",
    "import logging\n",
    "\n",
    "logging.basicConfig(level=logging.INFO, format='%(asctime)s - %(levelname)s - %(message)s')\n",
    "\n",
    "\n",
    "def stack_arrays():\n",
    "    \"\"\"\n",
    "    Функция для создания и соединения массивов:\n",
    "    1. Горизонтально с помощью hstack.\n",
    "    2. Вертикально с помощью vstack.\n",
    "    \"\"\"\n",
    "\n",
    "    # Создание массивов\n",
    "    a = np.array([1, 2, 3])\n",
    "    b = np.array([4, 5, 6])\n",
    "\n",
    "    try:\n",
    "        logging.info(\"Производится горизонтальное соединение...\")\n",
    "        # Горизонтальное соединение\n",
    "        horizontal_stack = np.hstack((a, b))\n",
    "        print(\"Горизонтальное соединение (hstack):\")\n",
    "        print(horizontal_stack)\n",
    "\n",
    "        logging.info(\"Производится вертикальное соединение...\")\n",
    "        # Вертикальное соединение\n",
    "        vertical_stack = np.vstack((a, b))\n",
    "        print(\"\\nВертикальное соединение (vstack):\")\n",
    "        print(vertical_stack)\n",
    "\n",
    "    except Exception as e:\n",
    "        print(f\"Произошла ошибка при соединении массивов: {e}\")\n",
    "\n",
    "\n",
    "\n",
    "stack_arrays()\n"
   ]
  },
  {
   "cell_type": "markdown",
   "metadata": {},
   "source": [
    "6. deactivate (деактивация виртуального окружения)"
   ]
  },
  {
   "cell_type": "markdown",
   "metadata": {},
   "source": [
    "Задание 9: Замена максимального элемента массива\n",
    "\n",
    "1. python -m venv study8-env (создание виртуального окружения)\n",
    "2. source study8-env/bin/activate (активация)\n",
    "3. pip install numpy (установка requests)\n",
    "4. pip freeze > requirements.txt (сохранение зависимостей в файл)\n",
    "\n",
    "    получился файл в котором указаны зависимости а также требуемый модуль\n",
    "\n",
    "        numpy==2.1.2"
   ]
  },
  {
   "cell_type": "code",
   "execution_count": 16,
   "metadata": {},
   "outputs": [
    {
     "name": "stdout",
     "output_type": "stream",
     "text": [
      "Исходный массив:\n",
      "[50 10 70 82 17 37 91  7 25  2]\n",
      "\n",
      "Измененный массив:\n",
      "[50 10 70 82 17 37  0  7 25  2]\n"
     ]
    }
   ],
   "source": [
    "import numpy as np\n",
    "\n",
    "def replace_max_with_zero():\n",
    "    \"\"\"\n",
    "    Функция для создания массива, нахождения максимального элемента,\n",
    "    замены его на 0 и вывода результатов.\n",
    "    \"\"\"\n",
    "    try:\n",
    "        # Шаг 1: Создаем массив из 10 случайных целых чисел от 1 до 100\n",
    "        arr = np.random.randint(1, 101, size=10)\n",
    "        print(\"Исходный массив:\")\n",
    "        print(arr)\n",
    "\n",
    "        # Шаг 2: Находим индекс максимального элемента\n",
    "        max_index = np.argmax(arr)  # Индекс максимального элемента\n",
    "\n",
    "        # Шаг 3: Заменяем максимальный элемент на 0\n",
    "        arr[max_index] = 0\n",
    "\n",
    "        # Шаг 4: Вывод измененного массива\n",
    "        print(\"\\nИзмененный массив:\")\n",
    "        print(arr)\n",
    "\n",
    "    except Exception as e:\n",
    "        print(f\"Произошла ошибка: {e}\")\n",
    "\n",
    "\n",
    "\n",
    "replace_max_with_zero()\n"
   ]
  },
  {
   "cell_type": "markdown",
   "metadata": {},
   "source": [
    "6. deactivate (деактивация виртуального окружения)"
   ]
  },
  {
   "cell_type": "markdown",
   "metadata": {},
   "source": [
    "Задание 10: Нахождение среднего значения по столбцам\n",
    "\n",
    "1. python -m venv study9-env (создание виртуального окружения)\n",
    "2. source study9-env/bin/activate (активация)\n",
    "3. pip install numpy (установка requests)\n",
    "4. pip freeze > requirements.txt (сохранение зависимостей в файл)\n",
    "\n",
    "    получился файл в котором указаны зависимости а также требуемый модуль\n",
    "\n",
    "        numpy==2.1.2"
   ]
  },
  {
   "cell_type": "code",
   "execution_count": 19,
   "metadata": {},
   "outputs": [
    {
     "name": "stdout",
     "output_type": "stream",
     "text": [
      "Матрица 4x5:\n",
      "[[8 9 7 8 2]\n",
      " [5 5 1 1 3]\n",
      " [9 4 1 6 5]\n",
      " [4 9 0 6 4]]\n",
      "\n",
      "Средние значения по столбцам:\n",
      "[6.5  6.75 2.25 5.25 3.5 ]\n"
     ]
    }
   ],
   "source": [
    "import numpy as np\n",
    "\n",
    "def calculate_column_means():\n",
    "    \"\"\"\n",
    "    Создание матрицы 4x5, нахождение среднего значения по столбцам\n",
    "    и вывод результатов.\n",
    "    \"\"\"\n",
    "    try:\n",
    "        # Шаг 1: Создаем матрицу 4x5 со случайными целыми числами от 0 до 10\n",
    "        matrix = np.random.randint(0, 11, size=(4, 5))\n",
    "        print(\"Матрица 4x5:\")\n",
    "        print(matrix)\n",
    "\n",
    "        # Шаг 2: Вычисляем среднее значение по каждому столбцу\n",
    "        column_means = np.mean(matrix, axis=0)\n",
    "\n",
    "        # Шаг 3: Выводим средние значения\n",
    "        print(\"\\nСредние значения по столбцам:\")\n",
    "        print(column_means)\n",
    "\n",
    "    except Exception as e:\n",
    "        print(f\"Произошла ошибка: {e}\")\n",
    "\n",
    "\n",
    "\n",
    "calculate_column_means()\n"
   ]
  },
  {
   "cell_type": "markdown",
   "metadata": {},
   "source": [
    "6. deactivate (деактивация виртуального окружения)"
   ]
  }
 ],
 "metadata": {
  "kernelspec": {
   "display_name": "study-env",
   "language": "python",
   "name": "python3"
  },
  "language_info": {
   "codemirror_mode": {
    "name": "ipython",
    "version": 3
   },
   "file_extension": ".py",
   "mimetype": "text/x-python",
   "name": "python",
   "nbconvert_exporter": "python",
   "pygments_lexer": "ipython3",
   "version": "3.12.6"
  }
 },
 "nbformat": 4,
 "nbformat_minor": 2
}
